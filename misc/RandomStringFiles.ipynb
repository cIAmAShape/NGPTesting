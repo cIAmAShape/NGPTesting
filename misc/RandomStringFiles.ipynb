{
 "cells": [
  {
   "cell_type": "code",
   "execution_count": 31,
   "id": "b6d96c9c-dac6-4e93-8758-a237871dc533",
   "metadata": {},
   "outputs": [],
   "source": [
    "import random  #Something I made to help me make the random string files I needed for intro-to-bash\n",
    "import string"
   ]
  },
  {
   "cell_type": "code",
   "execution_count": 32,
   "id": "f4c451ef-0ac0-46de-ac87-6ab2a4bef475",
   "metadata": {},
   "outputs": [],
   "source": [
    "infile = f\"noise{2}.txt\"\n",
    "\n",
    "characters = string.ascii_letters + string.digits\n",
    "for j in range(1,7):\n",
    "    with open(infile, \"w\") as f:\n",
    "        for i in range(random.randint(50, 300)):\n",
    "            f.write((\"\".join(random.choice(characters) for i in range(random.randint(1,100)))))\n",
    "            f.write(\"\\n\")\n",
    "    f.close()\n",
    "    infile = f\"noise{j}.txt\""
   ]
  },
  {
   "cell_type": "code",
   "execution_count": null,
   "id": "4db0e3f9-fbb6-4eb5-8beb-c5de594eb47c",
   "metadata": {},
   "outputs": [],
   "source": []
  }
 ],
 "metadata": {
  "kernelspec": {
   "display_name": "OLCF-base (ipykernel)",
   "language": "python",
   "name": "python3"
  },
  "language_info": {
   "codemirror_mode": {
    "name": "ipython",
    "version": 3
   },
   "file_extension": ".py",
   "mimetype": "text/x-python",
   "name": "python",
   "nbconvert_exporter": "python",
   "pygments_lexer": "ipython3",
   "version": "3.11.9"
  }
 },
 "nbformat": 4,
 "nbformat_minor": 5
}
