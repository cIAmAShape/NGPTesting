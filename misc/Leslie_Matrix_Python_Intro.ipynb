{
 "cells": [
  {
   "cell_type": "markdown",
   "id": "d2df0aba-5937-422f-87b8-6d1af1033b12",
   "metadata": {},
   "source": [
    "**Jupyer Notebook**\n",
    "\n",
    "\n",
    "This is a Jupyter notebook. You will be driving your Jetbots with one of these.\n",
    "\n",
    "You can execute the code in a cell by doing \"Shift + Enter\" \n",
    "\n",
    "In the cell below is a python print statement that will diplay text to the screen. \n",
    "Do the following \n",
    "- \"Shift + Enter\" to execute the code.\n",
    "- Cick on the cell and change \"NGP Student\" to your name. Then excute the cell again. \n"
   ]
  },
  {
   "cell_type": "code",
   "execution_count": 8,
   "id": "764bd661-452c-4480-86c5-5ea65c35a1f2",
   "metadata": {},
   "outputs": [
    {
     "name": "stdout",
     "output_type": "stream",
     "text": [
      "Welcome, NGP Student!\n"
     ]
    }
   ],
   "source": [
    "print(\"Welcome, NGP Student!\")"
   ]
  },
  {
   "cell_type": "markdown",
   "id": "3033d057-713c-4f73-9862-0132df490f92",
   "metadata": {},
   "source": [
    "**Python Lists**\n",
    "\n",
    "A Python list is like a container that can hold a bunch of items, one after another.\n",
    "\n",
    "Think of it like a grocery list:\n",
    "\n",
    "[\"Juvenile\", \"Adult\", \"Old\"]\n",
    "\n",
    "Each item has a spot (called an index) starting from 0:\n",
    "- \"Juvenile\" is at spot 0\n",
    "- \"Adult\" is at spot 1\n",
    "- \"Old\" is at spot 2\n",
    "\n",
    "\n",
    "You can put anything in a Python list: numbers, words, even other lists!\n",
    "\n",
    "Let's set up our Frog Leslie Matrix. You will store the age catagories in a list variable called \"ages\". "
   ]
  },
  {
   "cell_type": "code",
   "execution_count": 5,
   "id": "76916f4c",
   "metadata": {},
   "outputs": [
    {
     "name": "stdout",
     "output_type": "stream",
     "text": [
      "Frog Age groups: ['Juvenile', 'Adult', 'Old']\n"
     ]
    }
   ],
   "source": [
    "# 🐍 Cell 1: Basic Python List\n",
    "# Let's create a list of frog ages\n",
    "\n",
    "ages = [\"Juvenile\", \"Adult\", \"Old\"]\n",
    "print(\"Frog Age groups:\", ages)"
   ]
  },
  {
   "cell_type": "markdown",
   "id": "1bda221c-9294-4b0a-aeb3-7958081b5203",
   "metadata": {},
   "source": [
    "Store the Initial population of frogs in a list variable called \"population\"."
   ]
  },
  {
   "cell_type": "code",
   "execution_count": 6,
   "id": "8b767414",
   "metadata": {},
   "outputs": [
    {
     "name": "stdout",
     "output_type": "stream",
     "text": [
      "Initial population vector: [100, 50, 25]\n"
     ]
    }
   ],
   "source": [
    "# 📦 Cell 2: Creating the Population Vector\n",
    "# These are the number of frogs in each age group\n",
    "\n",
    "population = [100, 50, 25]  # Juvenile, Adult, Old\n",
    "print(\"Initial population vector:\", population)"
   ]
  },
  {
   "cell_type": "code",
   "execution_count": 3,
   "id": "8fdd5de1",
   "metadata": {},
   "outputs": [
    {
     "name": "stdout",
     "output_type": "stream",
     "text": [
      "Leslie matrix:\n",
      "[0, 4, 2]\n",
      "[0.2, 0, 0]\n",
      "[0, 0.5, 0]\n"
     ]
    }
   ],
   "source": [
    "# 🧮 Cell 3: The Leslie Matrix\n",
    "# A 3x3 matrix written as a list of lists\n",
    "# Each row is a list, and all together it's a list of 3 rows\n",
    "\n",
    "leslie_matrix = [\n",
    "    [0, 4, 2],    # Birth rates\n",
    "    [0.2, 0, 0],  # Survival from Juvenile to Adult\n",
    "    [0, 0.5, 0]   # Survival from Adult to Old\n",
    "]\n",
    "\n",
    "print(\"Leslie matrix:\")\n",
    "for row in leslie_matrix:\n",
    "    print(row)"
   ]
  },
  {
   "cell_type": "markdown",
   "id": "7bfea087-04dc-45e6-a712-3a57f60b799b",
   "metadata": {},
   "source": [
    "In the code below: \n",
    "\n",
    "**total** is the sum of the products from multiplying one row of the Leslie matrix with the current population vector.\n",
    "\n",
    "total for i =0 is: total = 0*100 + 4*50 + 2*25  = 200 + 50 = 250he \n",
    "\n",
    "**next_population** is a list where we're collecting all these results—one for each age group in the next year.\n",
    "\n",
    "\n",
    "\n",
    "\n",
    "In Python, we often use dot notation to call methods on objects.\n",
    "\n",
    "A method is a function that belongs to a specific object type (like a list, string, or dictionary).\n",
    "\n",
    "The format is:\n",
    "\n",
    "object_name.method_name(arguments)\n",
    "\n",
    "In our case:\n",
    "\n",
    "next_population.append(total)\n",
    "\n",
    "This means: use the append method on the next_population list and give it the total value to add.\n",
    "\n",
    "You can think of an object like a tool (e.g., a notebook), and the method is like an action you can perform with it (e.g., \"add a page\"). Dot notation is how you tell Python:\n",
    "“Hey list, do your append thing!”\n",
    "\n"
   ]
  },
  {
   "cell_type": "code",
   "execution_count": 7,
   "id": "7a92b4ab",
   "metadata": {},
   "outputs": [
    {
     "name": "stdout",
     "output_type": "stream",
     "text": [
      "Next year's population: [250, 20.0, 25.0]\n"
     ]
    }
   ],
   "source": [
    "# 🔁 Cell 4: Multiply Leslie Matrix by Population Vector (Manually)\n",
    "# We'll do this the long way to understand each step.\n",
    "\n",
    "next_population = []\n",
    "\n",
    "# We loop over each row of the matrix\n",
    "for row in leslie_matrix:\n",
    "    total = 0\n",
    "    # Multiply each element in the row with the corresponding population value\n",
    "    for i in range(3):\n",
    "        total = total + row[i] * population[i]\n",
    "    next_population.append(total)\n",
    "\n",
    "print(\"Next year's population:\", next_population)"
   ]
  },
  {
   "cell_type": "code",
   "execution_count": 8,
   "id": "cc94488b",
   "metadata": {},
   "outputs": [
    {
     "name": "stdout",
     "output_type": "stream",
     "text": [
      "Current Population:\n",
      "Juvenile: 100\n",
      "Adult: 50\n",
      "Old: 25\n",
      "\n",
      "Next Year:\n",
      "Juvenile: 250\n",
      "Adult: 20.0\n",
      "Old: 25.0\n"
     ]
    }
   ],
   "source": [
    "# 📊 Cell 5: See the Results Clearly\n",
    "print(\"Current Population:\")\n",
    "print(\"Juvenile:\", population[0])\n",
    "print(\"Adult:\", population[1])\n",
    "print(\"Old:\", population[2])\n",
    "\n",
    "print(\"\\nNext Year:\")\n",
    "print(\"Juvenile:\", next_population[0])\n",
    "print(\"Adult:\", next_population[1])\n",
    "print(\"Old:\", next_population[2])"
   ]
  },
  {
   "cell_type": "markdown",
   "id": "f2c3a165",
   "metadata": {},
   "source": [
    "# 🧠 Discussion: What did we learn?\n",
    "\n",
    "- How to store data in Python using lists\n",
    "- How to make a matrix using a list of lists\n",
    "- How to multiply a matrix by a vector, one row at a time\n",
    "- Intoduction to pythons dot notation for calling mentods and fuctions \n",
    "- How population structure can change over time\n",
    "\n",
    "Challenge: Try to code up the population of cats\n",
    "| Age Phase | Birth Rate (to Kitten) | Survival Rate (to next phase) | Current Pollution |\n",
    "|-----------|------------------------|-------------------------------|-------------------|\n",
    "| Kitten    | 0                      | 0.2                           | 10                |\n",
    "| Teen      | 2                      | 0.5                           | 3                 |\n",
    "| Adult     | 2                      | 0.4                           | 3                 |\n",
    "| Old       | 1                      | 0.0                           | 2                 |"
   ]
  },
  {
   "cell_type": "code",
   "execution_count": 10,
   "id": "66f44b33-4dcb-4f32-a431-df4a74d01cb0",
   "metadata": {},
   "outputs": [
    {
     "name": "stdout",
     "output_type": "stream",
     "text": [
      "[[0, 2, 2, 1], [0.2, 0, 0, 0], [0, 0.5, 0, 0], [0, 0, 0.4, 0]]\n"
     ]
    }
   ],
   "source": [
    "matrix = [[0, 2, 2, 1], \n",
    "          [0.2, 0, 0, 0], \n",
    "          [0, 0.5, 0, 0], \n",
    "          [0, 0, 0.4, 0]]\n",
    "print(matrix)"
   ]
  },
  {
   "cell_type": "code",
   "execution_count": 23,
   "id": "ff4c4b40-cc35-4b1b-9c58-b042666f25f5",
   "metadata": {},
   "outputs": [
    {
     "name": "stdout",
     "output_type": "stream",
     "text": [
      "Expected population:\n",
      "=========================\n",
      "Kitten: 14.00\n",
      "Teen: 2.00\n",
      "Adult: 1.50\n",
      "Old: 1.20\n",
      "There is a floating point error for old population. This is normal.\n"
     ]
    }
   ],
   "source": [
    "next_population = []\n",
    "population = [10, 3, 3, 2]\n",
    "\n",
    "for row in matrix:\n",
    "    total = 0\n",
    "    # Multiply each element in the row with the corresponding population value\n",
    "    for i in range(4):\n",
    "        total = total + row[i] * population[i]\n",
    "    next_population.append(total)\n",
    "index = [\"Kitten:\", \"Teen:\", \"Adult:\", \"Old:\"]\n",
    "\n",
    "print('Expected population:')\n",
    "print('=========================')\n",
    "i = 0\n",
    "for val in next_population:\n",
    "    print(index[i], \"{:.2f}\".format(val))\n",
    "    i += 1\n",
    "print('There is a floating point error for old population. This is normal.')"
   ]
  },
  {
   "cell_type": "code",
   "execution_count": 24,
   "id": "37d6cef4-8956-4043-8ebc-bf30af1f0858",
   "metadata": {},
   "outputs": [
    {
     "name": "stdout",
     "output_type": "stream",
     "text": [
      "0.30000000000000004\n"
     ]
    }
   ],
   "source": [
    "print(0.1 + 0.2)"
   ]
  }
 ],
 "metadata": {
  "kernelspec": {
   "display_name": "OLCF-base (ipykernel)",
   "language": "python",
   "name": "python3"
  },
  "language_info": {
   "codemirror_mode": {
    "name": "ipython",
    "version": 3
   },
   "file_extension": ".py",
   "mimetype": "text/x-python",
   "name": "python",
   "nbconvert_exporter": "python",
   "pygments_lexer": "ipython3",
   "version": "3.11.9"
  }
 },
 "nbformat": 4,
 "nbformat_minor": 5
}
